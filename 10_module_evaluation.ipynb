{
 "cells": [
  {
   "cell_type": "markdown",
   "metadata": {},
   "source": [
    "# Python 101 - End of Module Evaluation"
   ]
  },
  {
   "cell_type": "markdown",
   "metadata": {},
   "source": [
    "We have covered the basic components of the Python programming language. The evaluation will cover topic specific questions."
   ]
  },
  {
   "cell_type": "markdown",
   "metadata": {},
   "source": [
    "For questions where Python code is required, please **show your working**. I.e. show the python code you used to get to your solution as this is what will be marked as opposed to simply the answer to the question. Some marks will be awarded for the correct usage of JupyterHub. The number in brackets after each question represents the total marks available for the question."
   ]
  },
  {
   "cell_type": "markdown",
   "metadata": {},
   "source": [
    "To submit your answers:\n",
    "- Save your work by clicking the save icon\n",
    "- Download your notebook by clicking `File -> Download`\n",
    "- Email or Slack your notebook to the person specified in the Slack message"
   ]
  },
  {
   "cell_type": "markdown",
   "metadata": {},
   "source": [
    "## Python Language Overview"
   ]
  },
  {
   "cell_type": "markdown",
   "metadata": {},
   "source": [
    "a. For what reasons might you choose to use Python instead of Excel? (2)"
   ]
  },
  {
   "cell_type": "code",
   "execution_count": 81,
   "metadata": {},
   "outputs": [
    {
     "ename": "SyntaxError",
     "evalue": "invalid syntax (<ipython-input-81-9d6f28121eac>, line 1)",
     "output_type": "error",
     "traceback": [
      "\u001b[0;36m  Input \u001b[0;32mIn [81]\u001b[0;36m\u001b[0m\n\u001b[0;31m    Python can automate repetitive tasks when dealing with large datasets.\u001b[0m\n\u001b[0m           ^\u001b[0m\n\u001b[0;31mSyntaxError\u001b[0m\u001b[0;31m:\u001b[0m invalid syntax\n"
     ]
    }
   ],
   "source": [
    "Python can automate repetitive tasks when dealing with large datasets.\n",
    "Python can perform complex caclcutions and data manipulations with ease.\n",
    "Python can integrate with other systems and software via APIs, database and services."
   ]
  },
  {
   "cell_type": "markdown",
   "metadata": {},
   "source": [
    "b. Suggest three good places to search for an answer to a Python related question / for help when you get stuck. (1)"
   ]
  },
  {
   "cell_type": "code",
   "execution_count": 82,
   "metadata": {},
   "outputs": [
    {
     "ename": "SyntaxError",
     "evalue": "invalid syntax (<ipython-input-82-c5129cac772f>, line 1)",
     "output_type": "error",
     "traceback": [
      "\u001b[0;36m  Input \u001b[0;32mIn [82]\u001b[0;36m\u001b[0m\n\u001b[0;31m    Stack Overflow\u001b[0m\n\u001b[0m          ^\u001b[0m\n\u001b[0;31mSyntaxError\u001b[0m\u001b[0;31m:\u001b[0m invalid syntax\n"
     ]
    }
   ],
   "source": [
    "Stack Overflow\n",
    "Python Documentation\n",
    "ChatGPT"
   ]
  },
  {
   "cell_type": "markdown",
   "metadata": {},
   "source": [
    "## Variables and Data Types"
   ]
  },
  {
   "cell_type": "markdown",
   "metadata": {},
   "source": [
    "a. The major currency pairs (EURUSD, USDJPY, GBPUSD, USDCHF) are trading at 1.19, 103.8, 1.34 and 0.91 respectively. Define a variable for each of the currency pairs. (1)"
   ]
  },
  {
   "cell_type": "code",
   "execution_count": 83,
   "metadata": {},
   "outputs": [],
   "source": [
    "EURUSD = 1.19\n",
    "USDJPY = 103.8\n",
    "GBPUSD = 1.34\n",
    "USDCHF = 0.91"
   ]
  },
  {
   "cell_type": "markdown",
   "metadata": {},
   "source": [
    "b. The EURUSD rate increases by 12 basis points (0.12%). Using the variable you created above, update the rate of the currency pair. (1)"
   ]
  },
  {
   "cell_type": "code",
   "execution_count": 87,
   "metadata": {},
   "outputs": [
    {
     "name": "stdout",
     "output_type": "stream",
     "text": [
      "EURUSD=  1.1928577136\n"
     ]
    }
   ],
   "source": [
    "EURUSD += EURUSD*(0.12/100)\n",
    "print(\"EURUSD= \",EURUSD)"
   ]
  },
  {
   "cell_type": "markdown",
   "metadata": {},
   "source": [
    "c. Your portfolio contains 1000 EUR and 1200 GBP. What is your USD holding using the above rates? Define a variable `portfolio_value` for your solution. (2)"
   ]
  },
  {
   "cell_type": "code",
   "execution_count": 88,
   "metadata": {},
   "outputs": [
    {
     "name": "stdout",
     "output_type": "stream",
     "text": [
      "2800.8577136000004\n"
     ]
    }
   ],
   "source": [
    "portfolio_value = 1000 * EURUSD + 1200 * GBPUSD\n",
    "print(portfolio_value)"
   ]
  },
  {
   "cell_type": "markdown",
   "metadata": {},
   "source": [
    "## Data Structures"
   ]
  },
  {
   "cell_type": "markdown",
   "metadata": {},
   "source": [
    "### Exercise 1"
   ]
  },
  {
   "cell_type": "markdown",
   "metadata": {},
   "source": [
    "a. Create a list of strings containing the following car makers: Porsche, BMW, Volkswagen and Audi. (1)"
   ]
  },
  {
   "cell_type": "code",
   "execution_count": 1,
   "metadata": {},
   "outputs": [],
   "source": [
    "car_makers = ['Porsche', 'BMW', 'Volkswagen', 'Audi']"
   ]
  },
  {
   "cell_type": "markdown",
   "metadata": {},
   "source": [
    "b. Write a code snippet which selects the element at index 3. (1)"
   ]
  },
  {
   "cell_type": "code",
   "execution_count": 4,
   "metadata": {},
   "outputs": [
    {
     "data": {
      "text/plain": [
       "'Audi'"
      ]
     },
     "execution_count": 4,
     "metadata": {},
     "output_type": "execute_result"
    }
   ],
   "source": [
    "car_makers[3]"
   ]
  },
  {
   "cell_type": "markdown",
   "metadata": {},
   "source": [
    "c. Write a code snippet which finds the index of Audi in the list. (1)"
   ]
  },
  {
   "cell_type": "code",
   "execution_count": 3,
   "metadata": {},
   "outputs": [
    {
     "data": {
      "text/plain": [
       "3"
      ]
     },
     "execution_count": 3,
     "metadata": {},
     "output_type": "execute_result"
    }
   ],
   "source": [
    "car_makers.index(\"Audi\")"
   ]
  },
  {
   "cell_type": "markdown",
   "metadata": {},
   "source": [
    "d. Create another list that contains Ford, BMW and Mercedes. Given this new list of car makers, create a new, third, list that contains all car makers that have been mentioned, but without any duplicates. (2)"
   ]
  },
  {
   "cell_type": "code",
   "execution_count": 54,
   "metadata": {},
   "outputs": [
    {
     "name": "stdout",
     "output_type": "stream",
     "text": [
      "All Car Makers =  ['Porsche', 'BMW', 'Volkswagen', 'Audi', 'Ford', 'Mercedes']\n"
     ]
    }
   ],
   "source": [
    "new_car_makers = ['Ford', 'BMW', 'Mercedes']\n",
    "all_cars = car_makers + new_car_makers\n",
    "all_car_makers = []\n",
    "for i in all_cars:\n",
    "   if i not in all_car_makers:\n",
    "    all_car_makers.append(i)\n",
    "print(\"All Car Makers = \" ,all_car_makers)"
   ]
  },
  {
   "cell_type": "markdown",
   "metadata": {},
   "source": [
    "### Exercise 2"
   ]
  },
  {
   "cell_type": "markdown",
   "metadata": {},
   "source": [
    "e. Create a dictionary containing the following European countries: Germany, United Kingdom, France, Italy with populations of 83.8, 67.9, 65.3, 60.5 respectively, where the keys are country names and values are the population in millions. (1)"
   ]
  },
  {
   "cell_type": "code",
   "execution_count": 74,
   "metadata": {},
   "outputs": [
    {
     "name": "stdout",
     "output_type": "stream",
     "text": [
      "{'Germany': 83.8, 'United Kingdom': 67.9, 'France': 65.3, 'Italy': 60.5}\n"
     ]
    }
   ],
   "source": [
    "European_countries = {'Germany': 83.8, 'United Kingdom': 67.9, 'France': 65.3, 'Italy': 60.5}\n",
    "print(European_countries)"
   ]
  },
  {
   "cell_type": "markdown",
   "metadata": {},
   "source": [
    "f. The population of Spain is 46.8 million, add this to your dictionary. (1)"
   ]
  },
  {
   "cell_type": "code",
   "execution_count": 76,
   "metadata": {},
   "outputs": [
    {
     "name": "stdout",
     "output_type": "stream",
     "text": [
      "{'Germany': 83.8, 'United Kingdom': 67.9, 'France': 65.3, 'Italy': 60.5, 'Spain': 46.8}\n"
     ]
    }
   ],
   "source": [
    "European_countries['Spain'] = 46.8\n",
    "print(European_countries)"
   ]
  },
  {
   "cell_type": "markdown",
   "metadata": {},
   "source": [
    "g. Using your dictionary, find the total population of France and Italy. (1)"
   ]
  },
  {
   "cell_type": "code",
   "execution_count": 80,
   "metadata": {},
   "outputs": [
    {
     "name": "stdout",
     "output_type": "stream",
     "text": [
      "Total population of France and Italy is:  125.8\n"
     ]
    }
   ],
   "source": [
    "total_population = 0\n",
    "x=European_countries['France']\n",
    "y=European_countries['Italy']\n",
    "print(\"Total population of France and Italy is: \",x+y)"
   ]
  },
  {
   "cell_type": "markdown",
   "metadata": {},
   "source": [
    "## Conditional Statements"
   ]
  },
  {
   "cell_type": "markdown",
   "metadata": {},
   "source": [
    "### Exercise 1"
   ]
  },
  {
   "cell_type": "markdown",
   "metadata": {},
   "source": [
    "a. You would like to exchange your EUR for USD , but only when the the EURUSD rate is above 1.20. Write a statement that prints to the console whether you should buy or hold, and show it working in both scenarios by changing the value of the current EURUSD variable. (2)"
   ]
  },
  {
   "cell_type": "code",
   "execution_count": 91,
   "metadata": {},
   "outputs": [
    {
     "name": "stdout",
     "output_type": "stream",
     "text": [
      "Hold\n",
      "Buy\n"
     ]
    }
   ],
   "source": [
    "EURUSD = 1.19  # Current rate scenario 1\n",
    "if EURUSD > 1.20:\n",
    "    print(\"Buy\")\n",
    "else:\n",
    "    print(\"Hold\")\n",
    "\n",
    "EURUSD = 1.21  # Current rate scenario 2\n",
    "if EURUSD > 1.20:\n",
    "    print(\"Buy\")\n",
    "else:\n",
    "    print(\"Hold\")"
   ]
  },
  {
   "cell_type": "markdown",
   "metadata": {},
   "source": [
    "### Exercise 2"
   ]
  },
  {
   "cell_type": "markdown",
   "metadata": {},
   "source": [
    "b. Write a script that prints \"divisible by 5\" for numbers that are divisible by 5, \"divisible by 8\" for numbers that are divisible by 8, and \"both\" for numbers that are divisible by 5 **and** 8. (3)"
   ]
  },
  {
   "cell_type": "code",
   "execution_count": 111,
   "metadata": {},
   "outputs": [
    {
     "name": "stdin",
     "output_type": "stream",
     "text": [
      "Enter a number:  96\n"
     ]
    },
    {
     "name": "stdout",
     "output_type": "stream",
     "text": [
      "96  is divisible by 8\n"
     ]
    }
   ],
   "source": [
    "n = int(input(\"Enter a number: \"))\n",
    "if n%5==0:\n",
    "    print(n,\" is divisible by 5\")\n",
    "elif n%8==0:\n",
    "    print(n,\" is divisible by 8\")\n",
    "elif n%5==0 and n%8==0:\n",
    "    print(n,\" is divisible by both 5 and 8\")\n",
    "else:\n",
    "    print(n,\" is not divisible by both\")"
   ]
  },
  {
   "cell_type": "markdown",
   "metadata": {},
   "source": [
    "## Basic Functions"
   ]
  },
  {
   "cell_type": "markdown",
   "metadata": {},
   "source": [
    "### Exercise 1"
   ]
  },
  {
   "cell_type": "markdown",
   "metadata": {},
   "source": [
    "a. Rewrite your answer to the previous question as a function that can be reused. (1)"
   ]
  },
  {
   "cell_type": "code",
   "execution_count": 199,
   "metadata": {},
   "outputs": [
    {
     "data": {
      "text/plain": [
       "(97, ' is not divisible by both')"
      ]
     },
     "execution_count": 199,
     "metadata": {},
     "output_type": "execute_result"
    }
   ],
   "source": [
    "def divisible(n):\n",
    "    if n%5==0:\n",
    "        return n,\" is divisible by 5\"\n",
    "    elif n%8==0:\n",
    "        return n,\" is divisible by 8\"\n",
    "    elif n%5==0 and n%8==0:\n",
    "        return n,\" is divisible by both 5 and 8\"\n",
    "    else:\n",
    "        return n,\" is not divisible by both\"\n",
    "\n",
    "divisible(97)"
   ]
  },
  {
   "cell_type": "markdown",
   "metadata": {},
   "source": [
    "b. What edge cases should your function cater for? You should give a written answer to this question, and there is no need for your prior code to cater for all edge cases. (2)"
   ]
  },
  {
   "cell_type": "code",
   "execution_count": null,
   "metadata": {},
   "outputs": [
    {
     "ename": "",
     "evalue": "",
     "output_type": "error",
     "traceback": [
      "\u001b[1;31mRunning cells with 'c:\\Program Files\\Python311\\python.exe' requires the ipykernel package.\n",
      "\u001b[1;31mRun the following command to install 'ipykernel' into the Python environment. \n",
      "\u001b[1;31mCommand: '\"c:/Program Files/Python311/python.exe\" -m pip install ipykernel -U --user --force-reinstall'"
     ]
    }
   ],
   "source": [
    "1. Make sure the number is non-zero/non-negative. Add a condition if n>0       \n",
    "2. If the number is not divisible by both 5 & 8, we have to put an else which I already added to my code above."
   ]
  },
  {
   "cell_type": "markdown",
   "metadata": {},
   "source": [
    "c. You want to convert between the temperatures Kelvin (K), Celsius(°C) and Fahrenheit (F). Given: 0K = -273.1°C and (0°C × 9/5) + 32 = 32°F, write a function that will convert Kelvin to Celcius and another function that will convert Celcius to Fahrenheit. Both functions should return the converted temperature. (4)"
   ]
  },
  {
   "cell_type": "code",
   "execution_count": 193,
   "metadata": {},
   "outputs": [],
   "source": [
    "def k2c(k):\n",
    "    celsius = -273.1\n",
    "    if k==0:\n",
    "        return celsius\n",
    "    else:\n",
    "        return celsius+k\n",
    "\n",
    "def c2f(c):\n",
    "    f = 32.0\n",
    "    if c==0:\n",
    "        return f\n",
    "    else:\n",
    "        f = (c*(9/5)) + 32\n",
    "        return f"
   ]
  },
  {
   "cell_type": "markdown",
   "metadata": {},
   "source": [
    "d. Using the functions you have created above, create a new function that converts temperatures from kelvin to fahrenheit. (1)"
   ]
  },
  {
   "cell_type": "code",
   "execution_count": 198,
   "metadata": {},
   "outputs": [
    {
     "name": "stdout",
     "output_type": "stream",
     "text": [
      "-9.580000000000041\n"
     ]
    }
   ],
   "source": [
    "def k2f(k): \n",
    "    c=k2c(k)\n",
    "    f=c2f(c)\n",
    "    print(f)\n",
    "k2f(250)"
   ]
  },
  {
   "cell_type": "markdown",
   "metadata": {},
   "source": [
    "## Error Handling"
   ]
  },
  {
   "cell_type": "markdown",
   "metadata": {},
   "source": [
    "### Exercise 1"
   ]
  },
  {
   "cell_type": "markdown",
   "metadata": {},
   "source": [
    "a. Correct the following code (1)"
   ]
  },
  {
   "cell_type": "code",
   "execution_count": 116,
   "metadata": {},
   "outputs": [
    {
     "data": {
      "text/plain": [
       "6"
      ]
     },
     "execution_count": 116,
     "metadata": {},
     "output_type": "execute_result"
    }
   ],
   "source": [
    "def add(x1, x2):\n",
    "    sum_of_numbers = x1 + x2\n",
    "    return sum_of_numbers\n",
    "\n",
    "add(2, 4)"
   ]
  },
  {
   "cell_type": "markdown",
   "metadata": {},
   "source": [
    "b. Correct the following code (1)"
   ]
  },
  {
   "cell_type": "code",
   "execution_count": 119,
   "metadata": {},
   "outputs": [
    {
     "name": "stdout",
     "output_type": "stream",
     "text": [
      "x is not equal to 4\n",
      "65.3\n"
     ]
    }
   ],
   "source": [
    "if x == 4:\n",
    "    print (\"x is equal to 4\")\n",
    "else:\n",
    "    print (\"x is not equal to 4\")\n",
    "    \n",
    "#print(x)"
   ]
  },
  {
   "cell_type": "markdown",
   "metadata": {},
   "source": [
    "c. Correct the following code (1)"
   ]
  },
  {
   "cell_type": "code",
   "execution_count": 153,
   "metadata": {},
   "outputs": [
    {
     "data": {
      "text/plain": [
       "{3, 5}"
      ]
     },
     "execution_count": 153,
     "metadata": {},
     "output_type": "execute_result"
    }
   ],
   "source": [
    "set(list({3, 4, 5, 11, 6} & {3, 2, 8, 5}))"
   ]
  },
  {
   "cell_type": "markdown",
   "metadata": {},
   "source": [
    "d. Correct the following code (1)"
   ]
  },
  {
   "cell_type": "code",
   "execution_count": 155,
   "metadata": {},
   "outputs": [],
   "source": [
    "b = 3\n",
    "c = 4\n",
    "a = b + c"
   ]
  },
  {
   "cell_type": "markdown",
   "metadata": {},
   "source": [
    "### Exercise 2"
   ]
  },
  {
   "cell_type": "markdown",
   "metadata": {},
   "source": [
    "e. Edit the code below to mitigate against the zero division error when num2 == 0. (2)"
   ]
  },
  {
   "cell_type": "code",
   "execution_count": 160,
   "metadata": {},
   "outputs": [
    {
     "name": "stdout",
     "output_type": "stream",
     "text": [
      "Can't divisible by zero. Enter a non-zero number for num2\n"
     ]
    }
   ],
   "source": [
    "def division(num1, num2):\n",
    "    if num2==0:\n",
    "        print(\"Can't divisible by zero. Enter a non-zero number for num2\")\n",
    "    else:\n",
    "        answer = num1 / num2\n",
    "        return answer\n",
    "\n",
    "division(5, 0)    "
   ]
  },
  {
   "cell_type": "markdown",
   "metadata": {},
   "source": [
    "## Importing"
   ]
  },
  {
   "cell_type": "markdown",
   "metadata": {},
   "source": [
    "a. Print today's date using a builtin function. (1)"
   ]
  },
  {
   "cell_type": "code",
   "execution_count": 149,
   "metadata": {},
   "outputs": [
    {
     "name": "stdout",
     "output_type": "stream",
     "text": [
      "2024-03-15\n"
     ]
    }
   ],
   "source": [
    "from datetime import date\n",
    "today = date.today()\n",
    "print(today)"
   ]
  },
  {
   "cell_type": "markdown",
   "metadata": {},
   "source": [
    "b. Use a built in function to randomly select which of the common FAANG stocks you should buy, by printing \"BUY: \\<randomly selected stock>\". The FAANG stocks include: Facebook, Amazon, Apple, Netflix and Alphabet. (2)"
   ]
  },
  {
   "cell_type": "code",
   "execution_count": 151,
   "metadata": {},
   "outputs": [
    {
     "name": "stdout",
     "output_type": "stream",
     "text": [
      "BUY: Amazon\n"
     ]
    }
   ],
   "source": [
    "import random\n",
    "stocks = ['Facebook', 'Amazon', 'Apple', 'Netflix', 'Alphabet']\n",
    "selected_stock = random.choice(stocks)\n",
    "print(f\"BUY: {selected_stock}\")"
   ]
  }
 ],
 "metadata": {
  "jupytext": {
   "formats": "ipynb,md"
  },
  "kernelspec": {
   "display_name": "1) Man Lab 311-1 | Experimental",
   "language": "python",
   "name": "manlab_311_1"
  },
  "language_info": {
   "codemirror_mode": {
    "name": "ipython",
    "version": 3
   },
   "file_extension": ".py",
   "mimetype": "text/x-python",
   "name": "python",
   "nbconvert_exporter": "python",
   "pygments_lexer": "ipython3",
   "version": "3.11.7"
  }
 },
 "nbformat": 4,
 "nbformat_minor": 4
}
