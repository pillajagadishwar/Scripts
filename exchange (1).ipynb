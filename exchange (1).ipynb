{
 "cells": [
  {
   "cell_type": "markdown",
   "metadata": {},
   "source": [
    "# Create an exchange\n",
    "\n",
    "At AHL, we research and develop automated systems that trade in the world's financial markets.\n",
    "\n",
    "Trading in financial markets happens on \"exchanges\". On an exchange, participants such as AHL submit instructions (called \"orders\") to buy or sell a chosen amount of a given traded entity (called an \"instrument\"). For example, a participant may submit an order to buy 1000 shares of Microsoft stock, or to sell 10 lots of gold futures.\n",
    "\n",
    "As orders get submitted, the exchange maintains an accumulated view of all currently active orders (called the \"order book\"). For each traded instrument, each \"side\" (\"buy\" or \"sell\"), and each unique price point, the order book keeps track of how many units are being offered in total.\n",
    "\n",
    "The buy side contains price levels in decreasing order (the highest price a buyer is willing to pay is at the top). The sell side contains prices levels in increasing order (the cheapest sell price first).\n",
    "\n",
    "**NOTE**: unit price will be provided in pence/cents of currency. For example `1.00` GBP will be written as `100`.\n",
    "\n",
    "For example, an order book for gold may look like this:\n",
    "\n",
    "```\n",
    "Buy side:\n",
    "1) Price=1231, Total units=20\n",
    "2) Price=1225, Total units=45\n",
    "3) Price=1223, Total units=15 \n",
    "\n",
    "Sell side:\n",
    "1) Price=1331, Total units=10\n",
    "2) Price=1355, Total units= 5\n",
    "```"
   ]
  },
  {
   "cell_type": "markdown",
   "metadata": {},
   "source": [
    "# Task\n",
    "\n",
    "In this exercise, we will look at a simplified version of an electronic exchange. Your task will be to design and implement a system that processes individual order submissions and maintains the order book.\n",
    "\n",
    "The exercise is structured in steps:\n",
    "\n",
    "* each step will ask you to write a function: each function performs a single task and each step will explain any necessary (or not needed) requirements;\n",
    "* all functions will be combined in the last question of the exercise.\n",
    "\n",
    "For our purposes:\n",
    "\n",
    "* There is only one traded instrument: gold.\n",
    "* Each participant has only one type of action: submitting an order. Orders cannot be cancelled or modified.\n",
    "* There is only one type of order. The order contains information about the side (buy or sell), the quantity bought or sold, and the price.\n",
    "* On a real exchange, whenever a buyer is ready to pay more than what a seller is asking, their orders get \"matched\": a trade is made. For our purposes, we will NOT do order matching: it is perfectly fine to have such \"crossing\" buy and sell price levels on the order book.\n",
    "* While you can use any 3rd party libraries you would like, for most popular programming languages the standard library should be sufficient."
   ]
  },
  {
   "cell_type": "markdown",
   "metadata": {},
   "source": [
    "# Use the following constants below"
   ]
  },
  {
   "cell_type": "code",
   "execution_count": 1,
   "metadata": {},
   "outputs": [],
   "source": [
    "BUY = \"BUY\"\n",
    "SELL = \"SELL\""
   ]
  },
  {
   "cell_type": "markdown",
   "metadata": {},
   "source": [
    "# Question 1: Data structures\n",
    "\n",
    "How can we represent orders in Python? Which data structures can we use to add/remove orders?"
   ]
  },
  {
   "cell_type": "code",
   "execution_count": null,
   "metadata": {},
   "outputs": [],
   "source": [
    "# answer here"
   ]
  },
  {
   "cell_type": "markdown",
   "metadata": {},
   "source": [
    "# Question 2: Accept an order\n",
    "\n",
    "An exchange accepts orders. Each order has a side (buy/sell), quantity and a unit price.\n",
    "\n",
    "For the purposes of this exercise, we will keep all our orders in a list: new orders will be appended to the list.\n",
    "\n",
    "Write a function that accepts a new order. The function will take a list of orders as input (to which it will append) and then the parameters of an order: side, quantity and unit price. There is no requirement for keeping the orders sorted in some way at this point.\n",
    "\n",
    "The function will be used as below:\n",
    "\n",
    "```\n",
    "order_list = []\n",
    "\n",
    "accept_order(order_list, BUY, 2, 100)\n",
    "```\n",
    "\n",
    "Write the function below."
   ]
  },
  {
   "cell_type": "code",
   "execution_count": null,
   "metadata": {},
   "outputs": [],
   "source": [
    "def accept_order(order_list, side, quantity, price):\n",
    "    return []"
   ]
  },
  {
   "cell_type": "markdown",
   "metadata": {},
   "source": [
    "## Test the function\n",
    "\n",
    "Verify if the function works as expected by running the following **test**.\n",
    "\n",
    "A test is a code snippet that verifies your main code works as expected. A test consists of the following stages:\n",
    "\n",
    "1. Prepare representative inputs to be fed into the function.\n",
    "2. Create a variable with the result you expect from the function.\n",
    "3. Execute your function on such inputs and keep the result in a variable.\n",
    "4. Compare such result with what you expect using `assert`: for example\n",
    "\n",
    "```assert actual_result == expected_result, \"Error message commenting on the failure\"```\n",
    "\n",
    "\n",
    "### A note on `assert`\n",
    "\n",
    "`assert` is a special Python instruction: it is used to express that a specific condition must be satisfied at a specific point in the program.\n",
    "\n",
    "It has 2 main usages:\n",
    "\n",
    "* cause an error to be raised during program execution because of invalid/unexpected state;\n",
    "* verify in tests that the actual value computed by a function is equal to the expected value\n",
    "\n",
    "It works as follows:\n",
    "\n",
    "* if the condition is satisfied (i.e. it evaluates to `True`), it does **not** have any effect (nothing is printed/visualised).\n",
    "* if it's not satisfied (i.e. it evaluates to `False`), it raises an error.\n",
    "\n",
    "Run the below cells to see examples.\n",
    "\n",
    "```python\n",
    "# satisfied condition: no effect\n",
    "assert 1 == 1\n",
    "```"
   ]
  },
  {
   "cell_type": "code",
   "execution_count": null,
   "metadata": {},
   "outputs": [],
   "source": [
    "# unsatisfied condition: raises error\n",
    "assert 1 == 2"
   ]
  },
  {
   "cell_type": "markdown",
   "metadata": {},
   "source": [
    "It is also possible to add a custom error message:"
   ]
  },
  {
   "cell_type": "code",
   "execution_count": null,
   "metadata": {},
   "outputs": [],
   "source": [
    "assert 1 == 2, \"1 is not equal to 2\""
   ]
  },
  {
   "cell_type": "markdown",
   "metadata": {},
   "source": [
    "### Tests"
   ]
  },
  {
   "cell_type": "code",
   "execution_count": null,
   "metadata": {},
   "outputs": [],
   "source": [
    "# first test\n",
    "\n",
    "order_list = []\n",
    "\n",
    "accept_order(order_list, BUY, 2, 100)\n",
    "\n",
    "assert order_list == [(BUY, 2, 100)], \"Order list does not match the expected value\""
   ]
  },
  {
   "cell_type": "code",
   "execution_count": null,
   "metadata": {},
   "outputs": [],
   "source": [
    "# second test\n",
    "\n",
    "order_list = []\n",
    "\n",
    "accept_order(order_list, BUY, 2, 100)\n",
    "accept_order(order_list, SELL, 4, 200)\n",
    "accept_order(order_list, BUY, 3, 300)\n",
    "accept_order(order_list, BUY, 7, 100)\n",
    "\n",
    "assert order_list == [(BUY, 2, 100), (SELL, 4, 200), (BUY, 3, 300), (BUY, 7, 100)], \"Order list does not match the expected value\""
   ]
  },
  {
   "cell_type": "markdown",
   "metadata": {},
   "source": [
    "# Question 3: Aggregate orders\n",
    "\n",
    "When an exchange receives multiple orders with the same price and side (buy/sell), it will display them aggregated. For example, an exchange has in the order book the following three buy orders:\n",
    "\n",
    "```\n",
    "BUY 2 units at 100\n",
    "BUY 3 units at 200\n",
    "BUY 4 units at 100\n",
    "```\n",
    "\n",
    "It will display them with two lines: one with price `100` and quantity `4 + 2 = 6`, and one with price `200` and quantity `3`.\n",
    "\n",
    "For this reason, write a function to aggregate quantities: it receives as input a list of orders **of the same side** and it will output a list of aggregated orders. There is no requirement for sorting orders."
   ]
  },
  {
   "cell_type": "code",
   "execution_count": null,
   "metadata": {},
   "outputs": [],
   "source": [
    "def aggregate_orders(side_orders):\n",
    "    return []"
   ]
  },
  {
   "cell_type": "markdown",
   "metadata": {},
   "source": [
    "## Test the function\n",
    "\n",
    "Verify if the function works as expected by running the following code."
   ]
  },
  {
   "cell_type": "code",
   "execution_count": null,
   "metadata": {},
   "outputs": [],
   "source": [
    "input_orders = [\n",
    "    (BUY, 2, 100),\n",
    "    (BUY, 3, 200),\n",
    "    (BUY, 4, 100),\n",
    "]\n",
    "expected_aggregated_orders = [\n",
    "    (BUY, 6, 100),\n",
    "    (BUY, 3, 200),\n",
    "]\n",
    "\n",
    "actual_aggregated = aggregate_orders(input_orders)\n",
    "\n",
    "assert sorted(actual_aggregated, key=lambda x: x[2]) == expected_aggregated_orders, \"Aggregated orders do not match the expected value do not match\""
   ]
  },
  {
   "cell_type": "markdown",
   "metadata": {},
   "source": [
    "## Write more tests\n",
    "\n",
    "Are there any other tests you would like to try? Feel free to add more!\n",
    "\n",
    "Remember from the section above how a test is structured and use the above test, as well as the below one, as inspiration.\n",
    "\n",
    "Good tests verify all \"edge cases\", i.e. a combination of input that looks unlikely or hard to deal with in your code."
   ]
  },
  {
   "cell_type": "code",
   "execution_count": null,
   "metadata": {},
   "outputs": [],
   "source": [
    "# first test\n",
    "\n",
    "input_orders = [\n",
    "    (SELL, 2, 100),\n",
    "    (SELL, 3, 200),\n",
    "    (SELL, 4, 100),\n",
    "]\n",
    "expected_aggregated_orders = [\n",
    "    (SELL, 6, 100),\n",
    "    (SELL, 3, 200),\n",
    "]\n",
    "\n",
    "actual_aggregated = aggregate_orders(input_orders)\n",
    "\n",
    "assert sorted(actual_aggregated, key=lambda x: x[2]) == expected_aggregated_orders, \"Aggregated orders do not match the expected value do not match\""
   ]
  },
  {
   "cell_type": "code",
   "execution_count": null,
   "metadata": {},
   "outputs": [],
   "source": [
    "# add more tests yourself!"
   ]
  },
  {
   "cell_type": "markdown",
   "metadata": {},
   "source": [
    "# Question 4: Fetch sorted orders for a given side\n",
    "\n",
    "Orders will be stored all on the same list, however aggregation can be performed only on orders of the same side.\n",
    "\n",
    "Write a function that, given an order list and a side, it fetches all the orders with the given side (which we can aggregate at a later stage)."
   ]
  },
  {
   "cell_type": "code",
   "execution_count": null,
   "metadata": {},
   "outputs": [],
   "source": [
    "# provide the function signature and implementation\n",
    "\n",
    "def fetch_orders_for_side(order_list, side):\n",
    "    return []"
   ]
  },
  {
   "cell_type": "markdown",
   "metadata": {},
   "source": [
    "## Write your tests\n",
    "\n",
    "After writing your function, have a go at testing it yourself!\n",
    "\n",
    "We recommend keeping tests in separate cells to help execution and readability."
   ]
  },
  {
   "cell_type": "code",
   "execution_count": null,
   "metadata": {},
   "outputs": [],
   "source": [
    "# use these inputs as inspiration\n",
    "\n",
    "input_orders = [\n",
    "    (BUY, 2, 100),\n",
    "    (SELL, 3, 200),\n",
    "]\n",
    "expected_fetched = [\n",
    "    (BUY, 2, 100),\n",
    "]\n",
    "\n",
    "# call your function and verify the results"
   ]
  },
  {
   "cell_type": "code",
   "execution_count": null,
   "metadata": {},
   "outputs": [],
   "source": [
    "# write your own tests here!"
   ]
  },
  {
   "cell_type": "markdown",
   "metadata": {},
   "source": [
    "# Question 5: Display orders\n",
    "\n",
    "Write a function that, given a list of aggregated orders for a single side, it \"displays\" them in a user-friendly way.\n",
    "\n",
    "**NOTE**: orders are displayed sorted. See example at the very top: buy and sell orders are sorted by price, but differently.\n",
    "\n",
    "The function will create a string with all the information encoded, it won't actually display/print on screen (see below why). For example, for input orders\n",
    "\n",
    "```\n",
    "input_orders = [\n",
    "    (BUY, 6, 100),\n",
    "    (BUY, 3, 200),\n",
    "]\n",
    "```\n",
    "\n",
    "it will create a string like the following:\n",
    "\n",
    "```\n",
    "BUY:\n",
    "Price=200, Total units=3\n",
    "Price=100, Total units=6\n",
    "```"
   ]
  },
  {
   "cell_type": "code",
   "execution_count": null,
   "metadata": {},
   "outputs": [],
   "source": [
    "# code here\n",
    "\n",
    "def display_aggregated_orders(side_orders_aggregated, side):\n",
    "    return \"\""
   ]
  },
  {
   "cell_type": "markdown",
   "metadata": {},
   "source": [
    "## Testing\n",
    "\n",
    "### Why not just use `print` function?\n",
    "\n",
    "Testing relies on the assumption that a function returns a result or will make some side-effects in the program. The `print` function displays on screen and does not do anything else: it does not create a \"result\" that we can verify. This fact makes testing extremely hard (if not impossible).\n",
    "\n",
    "This is the reason for returning a string instead, which is comparable and testable (although not always easily)."
   ]
  },
  {
   "cell_type": "code",
   "execution_count": null,
   "metadata": {},
   "outputs": [],
   "source": [
    "# first test\n",
    "\n",
    "input_orders = [\n",
    "    (BUY, 2, 100),\n",
    "    (BUY, 3, 200),\n",
    "    (BUY, 4, 100),\n",
    "]\n",
    "expected_string = \"\"\"BUY:\n",
    "Price=200, Total units=3\n",
    "Price=100, Total units=6\"\"\"\n",
    "\n",
    "orders_aggregated = aggregate_orders(input_orders)\n",
    "aggregated_buy_orders = fetch_orders_for_side(orders_aggregated, BUY)\n",
    "actual_string = display_aggregated_orders(aggregated_buy_orders, BUY)\n",
    "\n",
    "print(actual_string)\n",
    "\n",
    "assert actual_string == expected_string"
   ]
  },
  {
   "cell_type": "code",
   "execution_count": null,
   "metadata": {},
   "outputs": [],
   "source": [
    "# second test\n",
    "\n",
    "input_orders = [\n",
    "    (SELL, 2, 100),\n",
    "    (SELL, 3, 200),\n",
    "    (SELL, 4, 100),\n",
    "]\n",
    "expected_string = \"\"\"SELL:\n",
    "Price=100, Total units=6\n",
    "Price=200, Total units=3\"\"\"\n",
    "\n",
    "orders_aggregated = aggregate_orders(input_orders)\n",
    "aggregated_sell_orders = fetch_orders_for_side(orders_aggregated, SELL)\n",
    "actual_string = display_aggregated_orders(aggregated_sell_orders, SELL)\n",
    "\n",
    "print(actual_string)\n",
    "\n",
    "assert actual_string == expected_string"
   ]
  },
  {
   "cell_type": "code",
   "execution_count": null,
   "metadata": {},
   "outputs": [],
   "source": [
    "# test for empty list of orders\n",
    "\n",
    "input_orders = []\n",
    "expected_string = \"\"\"SELL:\n",
    "EMPTY\"\"\"\n",
    "\n",
    "orders_aggregated = aggregate_orders(input_orders)\n",
    "aggregated_sell_orders = fetch_orders_for_side(orders_aggregated, SELL)\n",
    "actual_string = display_aggregated_orders(aggregated_sell_orders, SELL)\n",
    "\n",
    "print(actual_string)\n",
    "\n",
    "assert actual_string == expected_string"
   ]
  },
  {
   "cell_type": "markdown",
   "metadata": {},
   "source": [
    "# Question 6: Putting it all together\n",
    "\n",
    "Using the functions you've written, write a code snippet that will represent the following situation:\n",
    "\n",
    "* accepting the below orders:\n",
    "\n",
    "```\n",
    "BUY 10 units at 1223\n",
    "BUY 20 units at 1231\n",
    "SELL 5 units at 1355\n",
    "BUY  5 units at 1223\n",
    "BUY 15 units at 1225\n",
    "SELL 5 units at 1331\n",
    "BUY 30 units at 1225\n",
    "SELL 5 units at 1331\n",
    "```\n",
    "\n",
    "* prints the accepted orders in a user-friendly way. Example print for the above:\n",
    "\n",
    "```\n",
    "Buy side:\n",
    "1) Price=1231, Total units=20\n",
    "2) Price=1225, Total units=45\n",
    "3) Price=1223, Total units=15\n",
    "\n",
    "Sell side:\n",
    "1) Price=1331, Total units=10\n",
    "2) Price=1355, Total units= 5\n",
    "```"
   ]
  },
  {
   "cell_type": "code",
   "execution_count": null,
   "metadata": {},
   "outputs": [],
   "source": [
    "# Code here"
   ]
  },
  {
   "cell_type": "code",
   "execution_count": null,
   "metadata": {},
   "outputs": [],
   "source": []
  }
 ],
 "metadata": {
  "jupytext": {
   "formats": "ipynb,md"
  },
  "kernelspec": {
   "display_name": "2) Man Lab 36-1 | End of Life",
   "language": "python",
   "name": "manlab_361"
  },
  "language_info": {
   "codemirror_mode": {
    "name": "ipython",
    "version": 3
   },
   "file_extension": ".py",
   "mimetype": "text/x-python",
   "name": "python",
   "nbconvert_exporter": "python",
   "pygments_lexer": "ipython3",
   "version": "3.6.15"
  },
  "toc-autonumbering": false
 },
 "nbformat": 4,
 "nbformat_minor": 4
}
